{
 "cells": [
  {
   "cell_type": "code",
   "execution_count": 56,
   "metadata": {},
   "outputs": [
    {
     "data": {
      "text/plain": [
       "0          Klint De Drunk Enugu 1\n",
       "1          Klint De Drunk Enugu 2\n",
       "2             Klint De Drunk PH 1\n",
       "3             Klint De Drunk PH 2\n",
       "4          Klint De Drunk Lagos 1\n",
       "5          Klint De Drunk Lagos 2\n",
       "6          Klint De Drunk Lagos 3\n",
       "7         Klint De Drunk Warri 1 \n",
       "8                 AliBaba Lagos 2\n",
       "9              AliBaba Aso Rock 2\n",
       "10                AliBaba Abuja 2\n",
       "11                   AliBaba PH 1\n",
       "12                   AliBaba PH 4\n",
       "13                   AliBaba PH 5\n",
       "14            BasketMouth Lagos 1\n",
       "15            BasketMouth Abuja 3\n",
       "16                     AY Lagos 4\n",
       "17                     AY Abuja 3\n",
       "18                     AY Warri 1\n",
       "19                     AY Warri 2\n",
       "20                   Bovi Lagos 3\n",
       "21                   Bovi Lagos 4\n",
       "22                   Bovi Abuja 4\n",
       "23               Akpororo Warri 2\n",
       "24            Klint De Drunk PH 1\n",
       "25            Klint De Drunk PH 2\n",
       "26         Klint De Drunk Lagos 2\n",
       "27         Klint De Drunk Lagos 3\n",
       "28        Klint De Drunk Warri 1 \n",
       "29         Klint De Drunk Warri 2\n",
       "                   ...           \n",
       "612672     Klint De Drunk Lagos 1\n",
       "612673     Klint De Drunk Lagos 2\n",
       "612674               AliBaba PH 2\n",
       "612675                 AY Warri 1\n",
       "612676               Bovi Abuja 4\n",
       "612677           Akpororo Abuja 1\n",
       "612678           I Go Dye Lagos 1\n",
       "612679           I Go Dye Benin 1\n",
       "612680           Seyi Law Lagos 2\n",
       "612681            Gordons Lagos 2\n",
       "612682            Gordons Abuja 4\n",
       "612683     Klint De Drunk Enugu 2\n",
       "612684        Klint De Drunk PH 1\n",
       "612685     Klint De Drunk Lagos 1\n",
       "612686    Klint De Drunk Warri 1 \n",
       "612687     Klint De Drunk Enugu 2\n",
       "612688        Klint De Drunk PH 2\n",
       "612689     Klint De Drunk Lagos 2\n",
       "612690                 AY Lagos 3\n",
       "612691                 AY Warri 2\n",
       "612692               Bovi Abuja 4\n",
       "612693           Akpororo Warri 2\n",
       "612694           Akpororo Abuja 1\n",
       "612695           I Go Dye Abuja 3\n",
       "612696           Seyi Law Lagos 3\n",
       "612697            Gordons Lagos 2\n",
       "612698            Gordons Lagos 3\n",
       "612699            Gordons Lagos 4\n",
       "612700            Gordons Abuja 1\n",
       "612701            Gordons Abuja 4\n",
       "Name: Joke_identifier, Length: 612702, dtype: object"
      ]
     },
     "execution_count": 56,
     "metadata": {},
     "output_type": "execute_result"
    }
   ],
   "source": [
    "# Importing Libraries\n",
    "\n",
    "import numpy as np\n",
    "import matplotlib.pyplot as plt\n",
    "import pandas as pd\n",
    "\n",
    "# Importing the data set\n",
    "X = pd.read_csv(\"train.csv\").iloc[:,:-1]\n",
    "y = pd.read_csv(\"train.csv\").iloc[:,-1]\n",
    "X[\"Joke_identifier\"]\n",
    "\n",
    "\n"
   ]
  },
  {
   "cell_type": "code",
   "execution_count": 57,
   "metadata": {},
   "outputs": [
    {
     "data": {
      "text/html": [
       "<div>\n",
       "<style scoped>\n",
       "    .dataframe tbody tr th:only-of-type {\n",
       "        vertical-align: middle;\n",
       "    }\n",
       "\n",
       "    .dataframe tbody tr th {\n",
       "        vertical-align: top;\n",
       "    }\n",
       "\n",
       "    .dataframe thead th {\n",
       "        text-align: right;\n",
       "    }\n",
       "</style>\n",
       "<table border=\"1\" class=\"dataframe\">\n",
       "  <thead>\n",
       "    <tr style=\"text-align: right;\">\n",
       "      <th></th>\n",
       "      <th>Viewers_ID</th>\n",
       "      <th>Joke_identifier</th>\n",
       "      <th>Response_ID</th>\n",
       "    </tr>\n",
       "  </thead>\n",
       "  <tbody>\n",
       "    <tr>\n",
       "      <th>0</th>\n",
       "      <td>A1</td>\n",
       "      <td>Klint De Drunk Enugu 1</td>\n",
       "      <td>A1_Klint De Drunk Enugu 1</td>\n",
       "    </tr>\n",
       "    <tr>\n",
       "      <th>1</th>\n",
       "      <td>A1</td>\n",
       "      <td>Klint De Drunk Enugu 2</td>\n",
       "      <td>A1_Klint De Drunk Enugu 2</td>\n",
       "    </tr>\n",
       "    <tr>\n",
       "      <th>2</th>\n",
       "      <td>A1</td>\n",
       "      <td>Klint De Drunk PH 1</td>\n",
       "      <td>A1_Klint De Drunk PH 1</td>\n",
       "    </tr>\n",
       "    <tr>\n",
       "      <th>3</th>\n",
       "      <td>A1</td>\n",
       "      <td>Klint De Drunk PH 2</td>\n",
       "      <td>A1_Klint De Drunk PH 2</td>\n",
       "    </tr>\n",
       "    <tr>\n",
       "      <th>4</th>\n",
       "      <td>A1</td>\n",
       "      <td>Klint De Drunk Lagos 1</td>\n",
       "      <td>A1_Klint De Drunk Lagos 1</td>\n",
       "    </tr>\n",
       "  </tbody>\n",
       "</table>\n",
       "</div>"
      ],
      "text/plain": [
       "  Viewers_ID         Joke_identifier                Response_ID\n",
       "0         A1  Klint De Drunk Enugu 1  A1_Klint De Drunk Enugu 1\n",
       "1         A1  Klint De Drunk Enugu 2  A1_Klint De Drunk Enugu 2\n",
       "2         A1     Klint De Drunk PH 1     A1_Klint De Drunk PH 1\n",
       "3         A1     Klint De Drunk PH 2     A1_Klint De Drunk PH 2\n",
       "4         A1  Klint De Drunk Lagos 1  A1_Klint De Drunk Lagos 1"
      ]
     },
     "execution_count": 57,
     "metadata": {},
     "output_type": "execute_result"
    }
   ],
   "source": [
    "X.head()"
   ]
  },
  {
   "cell_type": "code",
   "execution_count": 58,
   "metadata": {},
   "outputs": [
    {
     "data": {
      "text/plain": [
       "0            A1\n",
       "1            A1\n",
       "2            A1\n",
       "3            A1\n",
       "4            A1\n",
       "5            A1\n",
       "6            A1\n",
       "7            A1\n",
       "8            A1\n",
       "9            A1\n",
       "10           A1\n",
       "11           A1\n",
       "12           A1\n",
       "13           A1\n",
       "14           A1\n",
       "15           A1\n",
       "16           A1\n",
       "17           A1\n",
       "18           A1\n",
       "19           A1\n",
       "20           A1\n",
       "21           A1\n",
       "22           A1\n",
       "23           A1\n",
       "24          A10\n",
       "25          A10\n",
       "26          A10\n",
       "27          A10\n",
       "28          A10\n",
       "29          A10\n",
       "          ...  \n",
       "612672    A9997\n",
       "612673    A9997\n",
       "612674    A9997\n",
       "612675    A9997\n",
       "612676    A9997\n",
       "612677    A9997\n",
       "612678    A9997\n",
       "612679    A9997\n",
       "612680    A9997\n",
       "612681    A9997\n",
       "612682    A9997\n",
       "612683    A9998\n",
       "612684    A9998\n",
       "612685    A9998\n",
       "612686    A9998\n",
       "612687    A9999\n",
       "612688    A9999\n",
       "612689    A9999\n",
       "612690    A9999\n",
       "612691    A9999\n",
       "612692    A9999\n",
       "612693    A9999\n",
       "612694    A9999\n",
       "612695    A9999\n",
       "612696    A9999\n",
       "612697    A9999\n",
       "612698    A9999\n",
       "612699    A9999\n",
       "612700    A9999\n",
       "612701    A9999\n",
       "Name: Viewers_ID, Length: 612702, dtype: object"
      ]
     },
     "execution_count": 58,
     "metadata": {},
     "output_type": "execute_result"
    }
   ],
   "source": [
    "X['Viewers_ID']\n"
   ]
  },
  {
   "cell_type": "code",
   "execution_count": 59,
   "metadata": {
    "scrolled": true
   },
   "outputs": [],
   "source": [
    "x1 = X['Viewers_ID']\n",
    "for i in range(7000):\n",
    "    x1[i] = x1.iloc[i][1:]\n",
    "   "
   ]
  },
  {
   "cell_type": "code",
   "execution_count": 60,
   "metadata": {},
   "outputs": [
    {
     "data": {
      "text/plain": [
       "'1'"
      ]
     },
     "execution_count": 60,
     "metadata": {},
     "output_type": "execute_result"
    }
   ],
   "source": [
    "x1[1]"
   ]
  },
  {
   "cell_type": "code",
   "execution_count": 61,
   "metadata": {},
   "outputs": [],
   "source": [
    "x = X[\"Joke_identifier\"]\n"
   ]
  },
  {
   "cell_type": "code",
   "execution_count": 62,
   "metadata": {},
   "outputs": [],
   "source": [
    "for i in range (7000):\n",
    "    a = x[i].split()\n",
    "    a = a[0]\n",
    "    x[i] = a"
   ]
  },
  {
   "cell_type": "code",
   "execution_count": 63,
   "metadata": {},
   "outputs": [
    {
     "data": {
      "text/plain": [
       "0                           Klint\n",
       "1                           Klint\n",
       "2                           Klint\n",
       "3                           Klint\n",
       "4                           Klint\n",
       "5                           Klint\n",
       "6                           Klint\n",
       "7                           Klint\n",
       "8                         AliBaba\n",
       "9                         AliBaba\n",
       "10                        AliBaba\n",
       "11                        AliBaba\n",
       "12                        AliBaba\n",
       "13                        AliBaba\n",
       "14                    BasketMouth\n",
       "15                    BasketMouth\n",
       "16                             AY\n",
       "17                             AY\n",
       "18                             AY\n",
       "19                             AY\n",
       "20                           Bovi\n",
       "21                           Bovi\n",
       "22                           Bovi\n",
       "23                       Akpororo\n",
       "24                          Klint\n",
       "25                          Klint\n",
       "26                          Klint\n",
       "27                          Klint\n",
       "28                          Klint\n",
       "29                          Klint\n",
       "                   ...           \n",
       "612672     Klint De Drunk Lagos 1\n",
       "612673     Klint De Drunk Lagos 2\n",
       "612674               AliBaba PH 2\n",
       "612675                 AY Warri 1\n",
       "612676               Bovi Abuja 4\n",
       "612677           Akpororo Abuja 1\n",
       "612678           I Go Dye Lagos 1\n",
       "612679           I Go Dye Benin 1\n",
       "612680           Seyi Law Lagos 2\n",
       "612681            Gordons Lagos 2\n",
       "612682            Gordons Abuja 4\n",
       "612683     Klint De Drunk Enugu 2\n",
       "612684        Klint De Drunk PH 1\n",
       "612685     Klint De Drunk Lagos 1\n",
       "612686    Klint De Drunk Warri 1 \n",
       "612687     Klint De Drunk Enugu 2\n",
       "612688        Klint De Drunk PH 2\n",
       "612689     Klint De Drunk Lagos 2\n",
       "612690                 AY Lagos 3\n",
       "612691                 AY Warri 2\n",
       "612692               Bovi Abuja 4\n",
       "612693           Akpororo Warri 2\n",
       "612694           Akpororo Abuja 1\n",
       "612695           I Go Dye Abuja 3\n",
       "612696           Seyi Law Lagos 3\n",
       "612697            Gordons Lagos 2\n",
       "612698            Gordons Lagos 3\n",
       "612699            Gordons Lagos 4\n",
       "612700            Gordons Abuja 1\n",
       "612701            Gordons Abuja 4\n",
       "Name: Joke_identifier, Length: 612702, dtype: object"
      ]
     },
     "execution_count": 63,
     "metadata": {},
     "output_type": "execute_result"
    }
   ],
   "source": [
    "x"
   ]
  },
  {
   "cell_type": "code",
   "execution_count": 64,
   "metadata": {},
   "outputs": [],
   "source": [
    "for i in range (7000):\n",
    "    if \"Klint\" in x[i]:\n",
    "        x[i] = 1\n",
    "    elif \"AliBaba\" in x[i]:\n",
    "        x[i] = 2\n",
    "    elif \"AY\" in x[i]:\n",
    "        x[i] = 3\n",
    "    elif \"BasketMouth\" in x[i]:\n",
    "        x[i] = 4\n",
    "    elif \"I\" in x[i]:\n",
    "        x[i] = 5  \n",
    "    elif \"Bovi\" in x[i]:\n",
    "        x[i] = 6\n",
    "    elif \"Akpororo\" in x[i]:\n",
    "        x[i] = 7\n",
    "    elif \"Seyi\" in x[i]:\n",
    "        x[i] = 8\n",
    "    elif \"Gordons\" in x[i]:\n",
    "        x[i] = 9\n",
    "    else: x[i] = 10"
   ]
  },
  {
   "cell_type": "code",
   "execution_count": 65,
   "metadata": {},
   "outputs": [
    {
     "data": {
      "text/plain": [
       "0                               1\n",
       "1                               1\n",
       "2                               1\n",
       "3                               1\n",
       "4                               1\n",
       "5                               1\n",
       "6                               1\n",
       "7                               1\n",
       "8                               2\n",
       "9                               2\n",
       "10                              2\n",
       "11                              2\n",
       "12                              2\n",
       "13                              2\n",
       "14                              4\n",
       "15                              4\n",
       "16                              3\n",
       "17                              3\n",
       "18                              3\n",
       "19                              3\n",
       "20                              6\n",
       "21                              6\n",
       "22                              6\n",
       "23                              7\n",
       "24                              1\n",
       "25                              1\n",
       "26                              1\n",
       "27                              1\n",
       "28                              1\n",
       "29                              1\n",
       "                   ...           \n",
       "612672     Klint De Drunk Lagos 1\n",
       "612673     Klint De Drunk Lagos 2\n",
       "612674               AliBaba PH 2\n",
       "612675                 AY Warri 1\n",
       "612676               Bovi Abuja 4\n",
       "612677           Akpororo Abuja 1\n",
       "612678           I Go Dye Lagos 1\n",
       "612679           I Go Dye Benin 1\n",
       "612680           Seyi Law Lagos 2\n",
       "612681            Gordons Lagos 2\n",
       "612682            Gordons Abuja 4\n",
       "612683     Klint De Drunk Enugu 2\n",
       "612684        Klint De Drunk PH 1\n",
       "612685     Klint De Drunk Lagos 1\n",
       "612686    Klint De Drunk Warri 1 \n",
       "612687     Klint De Drunk Enugu 2\n",
       "612688        Klint De Drunk PH 2\n",
       "612689     Klint De Drunk Lagos 2\n",
       "612690                 AY Lagos 3\n",
       "612691                 AY Warri 2\n",
       "612692               Bovi Abuja 4\n",
       "612693           Akpororo Warri 2\n",
       "612694           Akpororo Abuja 1\n",
       "612695           I Go Dye Abuja 3\n",
       "612696           Seyi Law Lagos 3\n",
       "612697            Gordons Lagos 2\n",
       "612698            Gordons Lagos 3\n",
       "612699            Gordons Lagos 4\n",
       "612700            Gordons Abuja 1\n",
       "612701            Gordons Abuja 4\n",
       "Name: Joke_identifier, Length: 612702, dtype: object"
      ]
     },
     "execution_count": 65,
     "metadata": {},
     "output_type": "execute_result"
    }
   ],
   "source": [
    "x"
   ]
  },
  {
   "cell_type": "code",
   "execution_count": 66,
   "metadata": {},
   "outputs": [],
   "source": [
    "x2 = pd.read_csv(\"train.csv\").iloc[:,1]"
   ]
  },
  {
   "cell_type": "code",
   "execution_count": 51,
   "metadata": {},
   "outputs": [
    {
     "data": {
      "text/plain": [
       "0          Klint De Drunk Enugu 1\n",
       "1          Klint De Drunk Enugu 2\n",
       "2             Klint De Drunk PH 1\n",
       "3             Klint De Drunk PH 2\n",
       "4          Klint De Drunk Lagos 1\n",
       "5          Klint De Drunk Lagos 2\n",
       "6          Klint De Drunk Lagos 3\n",
       "7         Klint De Drunk Warri 1 \n",
       "8                 AliBaba Lagos 2\n",
       "9              AliBaba Aso Rock 2\n",
       "10                AliBaba Abuja 2\n",
       "11                   AliBaba PH 1\n",
       "12                   AliBaba PH 4\n",
       "13                   AliBaba PH 5\n",
       "14            BasketMouth Lagos 1\n",
       "15            BasketMouth Abuja 3\n",
       "16                     AY Lagos 4\n",
       "17                     AY Abuja 3\n",
       "18                     AY Warri 1\n",
       "19                     AY Warri 2\n",
       "20                   Bovi Lagos 3\n",
       "21                   Bovi Lagos 4\n",
       "22                   Bovi Abuja 4\n",
       "23               Akpororo Warri 2\n",
       "24            Klint De Drunk PH 1\n",
       "25            Klint De Drunk PH 2\n",
       "26         Klint De Drunk Lagos 2\n",
       "27         Klint De Drunk Lagos 3\n",
       "28        Klint De Drunk Warri 1 \n",
       "29         Klint De Drunk Warri 2\n",
       "                   ...           \n",
       "612672     Klint De Drunk Lagos 1\n",
       "612673     Klint De Drunk Lagos 2\n",
       "612674               AliBaba PH 2\n",
       "612675                 AY Warri 1\n",
       "612676               Bovi Abuja 4\n",
       "612677           Akpororo Abuja 1\n",
       "612678           I Go Dye Lagos 1\n",
       "612679           I Go Dye Benin 1\n",
       "612680           Seyi Law Lagos 2\n",
       "612681            Gordons Lagos 2\n",
       "612682            Gordons Abuja 4\n",
       "612683     Klint De Drunk Enugu 2\n",
       "612684        Klint De Drunk PH 1\n",
       "612685     Klint De Drunk Lagos 1\n",
       "612686    Klint De Drunk Warri 1 \n",
       "612687     Klint De Drunk Enugu 2\n",
       "612688        Klint De Drunk PH 2\n",
       "612689     Klint De Drunk Lagos 2\n",
       "612690                 AY Lagos 3\n",
       "612691                 AY Warri 2\n",
       "612692               Bovi Abuja 4\n",
       "612693           Akpororo Warri 2\n",
       "612694           Akpororo Abuja 1\n",
       "612695           I Go Dye Abuja 3\n",
       "612696           Seyi Law Lagos 3\n",
       "612697            Gordons Lagos 2\n",
       "612698            Gordons Lagos 3\n",
       "612699            Gordons Lagos 4\n",
       "612700            Gordons Abuja 1\n",
       "612701            Gordons Abuja 4\n",
       "Name: Joke_identifier, Length: 612702, dtype: object"
      ]
     },
     "execution_count": 51,
     "metadata": {},
     "output_type": "execute_result"
    }
   ],
   "source": [
    "x2"
   ]
  },
  {
   "cell_type": "code",
   "execution_count": 67,
   "metadata": {},
   "outputs": [],
   "source": [
    "for i in range (7000):\n",
    "    a = x2[i].split()\n",
    "    a = a[-2]\n",
    "    x2[i] = a"
   ]
  },
  {
   "cell_type": "code",
   "execution_count": 53,
   "metadata": {},
   "outputs": [
    {
     "data": {
      "text/plain": [
       "0                           Enugu\n",
       "1                           Enugu\n",
       "2                              PH\n",
       "3                              PH\n",
       "4                           Lagos\n",
       "5                           Lagos\n",
       "6                           Lagos\n",
       "7                           Warri\n",
       "8                           Lagos\n",
       "9                            Rock\n",
       "10                          Abuja\n",
       "11                             PH\n",
       "12                             PH\n",
       "13                             PH\n",
       "14                          Lagos\n",
       "15                          Abuja\n",
       "16                          Lagos\n",
       "17                          Abuja\n",
       "18                          Warri\n",
       "19                          Warri\n",
       "20                          Lagos\n",
       "21                          Lagos\n",
       "22                          Abuja\n",
       "23                          Warri\n",
       "24                             PH\n",
       "25                             PH\n",
       "26                          Lagos\n",
       "27                          Lagos\n",
       "28                          Warri\n",
       "29                          Warri\n",
       "                   ...           \n",
       "612672     Klint De Drunk Lagos 1\n",
       "612673     Klint De Drunk Lagos 2\n",
       "612674               AliBaba PH 2\n",
       "612675                 AY Warri 1\n",
       "612676               Bovi Abuja 4\n",
       "612677           Akpororo Abuja 1\n",
       "612678           I Go Dye Lagos 1\n",
       "612679           I Go Dye Benin 1\n",
       "612680           Seyi Law Lagos 2\n",
       "612681            Gordons Lagos 2\n",
       "612682            Gordons Abuja 4\n",
       "612683     Klint De Drunk Enugu 2\n",
       "612684        Klint De Drunk PH 1\n",
       "612685     Klint De Drunk Lagos 1\n",
       "612686    Klint De Drunk Warri 1 \n",
       "612687     Klint De Drunk Enugu 2\n",
       "612688        Klint De Drunk PH 2\n",
       "612689     Klint De Drunk Lagos 2\n",
       "612690                 AY Lagos 3\n",
       "612691                 AY Warri 2\n",
       "612692               Bovi Abuja 4\n",
       "612693           Akpororo Warri 2\n",
       "612694           Akpororo Abuja 1\n",
       "612695           I Go Dye Abuja 3\n",
       "612696           Seyi Law Lagos 3\n",
       "612697            Gordons Lagos 2\n",
       "612698            Gordons Lagos 3\n",
       "612699            Gordons Lagos 4\n",
       "612700            Gordons Abuja 1\n",
       "612701            Gordons Abuja 4\n",
       "Name: Joke_identifier, Length: 612702, dtype: object"
      ]
     },
     "execution_count": 53,
     "metadata": {},
     "output_type": "execute_result"
    }
   ],
   "source": [
    "x2"
   ]
  },
  {
   "cell_type": "code",
   "execution_count": 68,
   "metadata": {},
   "outputs": [],
   "source": [
    "for i in range (7000):\n",
    "    if \"Enugu\" in x2[i]:\n",
    "        x2[i] = 1\n",
    "    elif \"PH\" in x2[i]:\n",
    "        x2[i] = 2\n",
    "    elif \"Lagos\" in x2[i]:\n",
    "        x2[i] = 3\n",
    "    elif \"Warri\" in x2[i]:\n",
    "        x2[i] = 4\n",
    "    elif \"AsoRock\" in x2[i]:\n",
    "        x2[i] = 5  \n",
    "    elif \"Abuja\" in x2[i]:\n",
    "        x2[i] = 6\n",
    "    elif \"Owerri\" in x2[i]:\n",
    "        x2[i] = 7\n",
    "    elif \"Benin\" in x2[i]:\n",
    "        x2[i] = 8\n",
    "    elif \"Uyo\" in x2[i]:\n",
    "        x2[i] = 9\n",
    "    else: x2[i] = 10"
   ]
  },
  {
   "cell_type": "code",
   "execution_count": 55,
   "metadata": {},
   "outputs": [
    {
     "data": {
      "text/plain": [
       "0                               1\n",
       "1                               1\n",
       "2                               2\n",
       "3                               2\n",
       "4                               3\n",
       "5                               3\n",
       "6                               3\n",
       "7                               4\n",
       "8                               3\n",
       "9                              10\n",
       "10                              6\n",
       "11                              2\n",
       "12                              2\n",
       "13                              2\n",
       "14                              3\n",
       "15                              6\n",
       "16                              3\n",
       "17                              6\n",
       "18                              4\n",
       "19                              4\n",
       "20                              3\n",
       "21                              3\n",
       "22                              6\n",
       "23                              4\n",
       "24                              2\n",
       "25                              2\n",
       "26                              3\n",
       "27                              3\n",
       "28                              4\n",
       "29                              4\n",
       "                   ...           \n",
       "612672     Klint De Drunk Lagos 1\n",
       "612673     Klint De Drunk Lagos 2\n",
       "612674               AliBaba PH 2\n",
       "612675                 AY Warri 1\n",
       "612676               Bovi Abuja 4\n",
       "612677           Akpororo Abuja 1\n",
       "612678           I Go Dye Lagos 1\n",
       "612679           I Go Dye Benin 1\n",
       "612680           Seyi Law Lagos 2\n",
       "612681            Gordons Lagos 2\n",
       "612682            Gordons Abuja 4\n",
       "612683     Klint De Drunk Enugu 2\n",
       "612684        Klint De Drunk PH 1\n",
       "612685     Klint De Drunk Lagos 1\n",
       "612686    Klint De Drunk Warri 1 \n",
       "612687     Klint De Drunk Enugu 2\n",
       "612688        Klint De Drunk PH 2\n",
       "612689     Klint De Drunk Lagos 2\n",
       "612690                 AY Lagos 3\n",
       "612691                 AY Warri 2\n",
       "612692               Bovi Abuja 4\n",
       "612693           Akpororo Warri 2\n",
       "612694           Akpororo Abuja 1\n",
       "612695           I Go Dye Abuja 3\n",
       "612696           Seyi Law Lagos 3\n",
       "612697            Gordons Lagos 2\n",
       "612698            Gordons Lagos 3\n",
       "612699            Gordons Lagos 4\n",
       "612700            Gordons Abuja 1\n",
       "612701            Gordons Abuja 4\n",
       "Name: Joke_identifier, Length: 612702, dtype: object"
      ]
     },
     "execution_count": 55,
     "metadata": {},
     "output_type": "execute_result"
    }
   ],
   "source": [
    "x2                                                                                                                                                                                                 "
   ]
  },
  {
   "cell_type": "code",
   "execution_count": 70,
   "metadata": {},
   "outputs": [],
   "source": [
    "import seaborn as sns"
   ]
  },
  {
   "cell_type": "code",
   "execution_count": 72,
   "metadata": {},
   "outputs": [],
   "source": [
    "sns.set_style(\"white\")"
   ]
  },
  {
   "cell_type": "code",
   "execution_count": 73,
   "metadata": {},
   "outputs": [],
   "source": [
    "%matplotlib inline "
   ]
  },
  {
   "cell_type": "code",
   "execution_count": 74,
   "metadata": {},
   "outputs": [
    {
     "data": {
      "text/plain": [
       "<bound method NDFrame.head of 0                               1\n",
       "1                               1\n",
       "2                               1\n",
       "3                               1\n",
       "4                               1\n",
       "5                               1\n",
       "6                               1\n",
       "7                               1\n",
       "8                               2\n",
       "9                               2\n",
       "10                              2\n",
       "11                              2\n",
       "12                              2\n",
       "13                              2\n",
       "14                              4\n",
       "15                              4\n",
       "16                              3\n",
       "17                              3\n",
       "18                              3\n",
       "19                              3\n",
       "20                              6\n",
       "21                              6\n",
       "22                              6\n",
       "23                              7\n",
       "24                              1\n",
       "25                              1\n",
       "26                              1\n",
       "27                              1\n",
       "28                              1\n",
       "29                              1\n",
       "                   ...           \n",
       "612672     Klint De Drunk Lagos 1\n",
       "612673     Klint De Drunk Lagos 2\n",
       "612674               AliBaba PH 2\n",
       "612675                 AY Warri 1\n",
       "612676               Bovi Abuja 4\n",
       "612677           Akpororo Abuja 1\n",
       "612678           I Go Dye Lagos 1\n",
       "612679           I Go Dye Benin 1\n",
       "612680           Seyi Law Lagos 2\n",
       "612681            Gordons Lagos 2\n",
       "612682            Gordons Abuja 4\n",
       "612683     Klint De Drunk Enugu 2\n",
       "612684        Klint De Drunk PH 1\n",
       "612685     Klint De Drunk Lagos 1\n",
       "612686    Klint De Drunk Warri 1 \n",
       "612687     Klint De Drunk Enugu 2\n",
       "612688        Klint De Drunk PH 2\n",
       "612689     Klint De Drunk Lagos 2\n",
       "612690                 AY Lagos 3\n",
       "612691                 AY Warri 2\n",
       "612692               Bovi Abuja 4\n",
       "612693           Akpororo Warri 2\n",
       "612694           Akpororo Abuja 1\n",
       "612695           I Go Dye Abuja 3\n",
       "612696           Seyi Law Lagos 3\n",
       "612697            Gordons Lagos 2\n",
       "612698            Gordons Lagos 3\n",
       "612699            Gordons Lagos 4\n",
       "612700            Gordons Abuja 1\n",
       "612701            Gordons Abuja 4\n",
       "Name: Joke_identifier, Length: 612702, dtype: object>"
      ]
     },
     "execution_count": 74,
     "metadata": {},
     "output_type": "execute_result"
    }
   ],
   "source": [
    "x.head"
   ]
  },
  {
   "cell_type": "code",
   "execution_count": 84,
   "metadata": {},
   "outputs": [],
   "source": [
    "x = 0 - 7000"
   ]
  },
  {
   "cell_type": "code",
   "execution_count": 87,
   "metadata": {},
   "outputs": [
    {
     "ename": "TypeError",
     "evalue": "string indices must be integers",
     "output_type": "error",
     "traceback": [
      "\u001b[1;31m---------------------------------------------------------------------------\u001b[0m",
      "\u001b[1;31mTypeError\u001b[0m                                 Traceback (most recent call last)",
      "\u001b[1;32m<ipython-input-87-068135701e2b>\u001b[0m in \u001b[0;36m<module>\u001b[1;34m()\u001b[0m\n\u001b[1;32m----> 1\u001b[1;33m \u001b[0mX\u001b[0m\u001b[1;33m.\u001b[0m\u001b[0mgroupby\u001b[0m \u001b[1;33m(\u001b[0m\u001b[1;33m(\u001b[0m\u001b[1;34m\"x\"\u001b[0m\u001b[1;33m)\u001b[0m \u001b[1;33m[\u001b[0m\u001b[1;34m\"Rating\"\u001b[0m\u001b[1;33m]\u001b[0m\u001b[1;33m)\u001b[0m\u001b[1;33m.\u001b[0m\u001b[0mmean\u001b[0m\u001b[1;33m(\u001b[0m\u001b[1;33m)\u001b[0m\u001b[1;33m\u001b[0m\u001b[0m\n\u001b[0m",
      "\u001b[1;31mTypeError\u001b[0m: string indices must be integers"
     ]
    }
   ],
   "source": [
    "X.groupby (\"x\") [\"Rating\"].mean()"
   ]
  },
  {
   "cell_type": "code",
   "execution_count": 89,
   "metadata": {},
   "outputs": [
    {
     "ename": "NameError",
     "evalue": "name 'Rating' is not defined",
     "output_type": "error",
     "traceback": [
      "\u001b[1;31m---------------------------------------------------------------------------\u001b[0m",
      "\u001b[1;31mNameError\u001b[0m                                 Traceback (most recent call last)",
      "\u001b[1;32m<ipython-input-89-c56c67d1ae34>\u001b[0m in \u001b[0;36m<module>\u001b[1;34m()\u001b[0m\n\u001b[1;32m----> 1\u001b[1;33m \u001b[0msns\u001b[0m\u001b[1;33m.\u001b[0m\u001b[0mjointplot\u001b[0m\u001b[1;33m(\u001b[0m\u001b[0mX\u001b[0m\u001b[1;33m=\u001b[0m\u001b[1;34m\"Rating\"\u001b[0m\u001b[1;33m,\u001b[0m \u001b[0my\u001b[0m\u001b[1;33m=\u001b[0m\u001b[1;34m\"num of Rating\"\u001b[0m\u001b[1;33m,\u001b[0m \u001b[0mdata\u001b[0m \u001b[1;33m=\u001b[0m \u001b[0mRating\u001b[0m\u001b[1;33m,\u001b[0m\u001b[0malpha\u001b[0m\u001b[1;33m=\u001b[0m\u001b[1;36m0.2\u001b[0m\u001b[1;33m)\u001b[0m\u001b[1;33m\u001b[0m\u001b[0m\n\u001b[0m",
      "\u001b[1;31mNameError\u001b[0m: name 'Rating' is not defined"
     ]
    }
   ],
   "source": [
    "sns.jointplot(X=\"Rating\", y=\"num of Rating\", data = Rating,alpha=0.2)"
   ]
  },
  {
   "cell_type": "code",
   "execution_count": null,
   "metadata": {},
   "outputs": [],
   "source": []
  }
 ],
 "metadata": {
  "kernelspec": {
   "display_name": "Python 3",
   "language": "python",
   "name": "python3"
  },
  "language_info": {
   "codemirror_mode": {
    "name": "ipython",
    "version": 3
   },
   "file_extension": ".py",
   "mimetype": "text/x-python",
   "name": "python",
   "nbconvert_exporter": "python",
   "pygments_lexer": "ipython3",
   "version": "3.6.5"
  }
 },
 "nbformat": 4,
 "nbformat_minor": 2
}
